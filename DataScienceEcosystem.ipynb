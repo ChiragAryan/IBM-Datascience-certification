{
 "cells": [
  {
   "cell_type": "markdown",
   "id": "0633fbaf",
   "metadata": {},
   "source": [
    "<center>\n",
    "    <img src=\"https://cf-courses-data.s3.us.cloud-object-storage.appdomain.cloud/IBMDeveloperSkillsNetwork-DS0105EN-SkillsNetwork/labs/Module2/images/SN_web_lightmode.png\" width=\"300\" alt=\"cognitiveclass.ai logo\">\n",
    "</center>\n"
   ]
  },
  {
   "cell_type": "markdown",
   "id": "4eb0e1dc",
   "metadata": {},
   "source": [
    "#### Add your code below following the instructions given in the course\n"
   ]
  },
  {
   "cell_type": "markdown",
   "id": "aed5c327",
   "metadata": {},
   "source": [
    "# Data Science Tools and Ecosystem\n"
   ]
  },
  {
   "cell_type": "markdown",
   "id": "d7d1560d",
   "metadata": {},
   "source": [
    "In this notebook, Data Science Tools and Ecosystem are \n",
    "summarized.\n",
    "\n",
    "**Objectives:**\n",
    "* List popular languages for Data Science\n",
    "* List common libraries used by Data Scientist\n",
    "* Comment on Data science\n"
   ]
  },
  {
   "cell_type": "markdown",
   "id": "39e5fd4c",
   "metadata": {},
   "source": [
    "Some of the popular languages that Data Scientists use are:\n",
    "1. Python\n",
    "2. R\n",
    "3. SQL\n",
    "4. Julia\n",
    "5. Scala"
   ]
  },
  {
   "cell_type": "markdown",
   "id": "b04419fc",
   "metadata": {},
   "source": [
    "Some of the commonly used libraries used by Data Scientists include:\n",
    "1. Pandas\n",
    "2. NumPy\n",
    "3. SciPy\n",
    "4. Matplotlib\n",
    "5. PyTorch"
   ]
  },
  {
   "cell_type": "markdown",
   "id": "36138112",
   "metadata": {},
   "source": [
    "|Data Science Tools|\n",
    "--------------------\n",
    "|Apache Spark|\n",
    "|IBM SPSS|\n",
    "|Jupyter Notebook|\n",
    "|BigML|"
   ]
  },
  {
   "cell_type": "markdown",
   "id": "8c7bf1b5",
   "metadata": {},
   "source": [
    "### Below are a few examples of evaluating arithmetic expressions in Python"
   ]
  },
  {
   "cell_type": "code",
   "execution_count": 3,
   "id": "5e2f8ead",
   "metadata": {},
   "outputs": [
    {
     "name": "stdout",
     "output_type": "stream",
     "text": [
      "9\n"
     ]
    }
   ],
   "source": [
    "a=4\n",
    "b=5\n",
    "c=a+b\n",
    "print(c)"
   ]
  },
  {
   "cell_type": "code",
   "execution_count": 4,
   "id": "35f86be3",
   "metadata": {},
   "outputs": [
    {
     "name": "stdout",
     "output_type": "stream",
     "text": [
      "1\n"
     ]
    }
   ],
   "source": [
    "d=b-a\n",
    "print(d)"
   ]
  },
  {
   "cell_type": "code",
   "execution_count": 5,
   "id": "7a73aff2",
   "metadata": {},
   "outputs": [
    {
     "name": "stdout",
     "output_type": "stream",
     "text": [
      "20\n"
     ]
    }
   ],
   "source": [
    "e=a*b\n",
    "print(e)"
   ]
  },
  {
   "cell_type": "markdown",
   "id": "73374fed",
   "metadata": {},
   "source": [
    "**This a simple arithmetic expression to mutiply then add integers**"
   ]
  },
  {
   "cell_type": "code",
   "execution_count": 6,
   "id": "c89335b8",
   "metadata": {},
   "outputs": [
    {
     "data": {
      "text/plain": [
       "17"
      ]
     },
     "execution_count": 6,
     "metadata": {},
     "output_type": "execute_result"
    }
   ],
   "source": [
    "(3*4)+5"
   ]
  },
  {
   "cell_type": "markdown",
   "id": "80d78327",
   "metadata": {},
   "source": [
    "**This will convert 200 minutes to hours by diving by 60**"
   ]
  },
  {
   "cell_type": "code",
   "execution_count": 7,
   "id": "d809eb02",
   "metadata": {},
   "outputs": [
    {
     "name": "stdout",
     "output_type": "stream",
     "text": [
      "hours:3.3333333333333335\n"
     ]
    }
   ],
   "source": [
    "time=200\n",
    "hours=time/60\n",
    "print(f'hours:{hours}')"
   ]
  },
  {
   "cell_type": "markdown",
   "id": "7869f892",
   "metadata": {},
   "source": [
    "## Author:\n",
    "Chirag B K"
   ]
  }
 ],
 "metadata": {
  "kernelspec": {
   "display_name": "Python 3 (ipykernel)",
   "language": "python",
   "name": "python3"
  },
  "language_info": {
   "codemirror_mode": {
    "name": "ipython",
    "version": 3
   },
   "file_extension": ".py",
   "mimetype": "text/x-python",
   "name": "python",
   "nbconvert_exporter": "python",
   "pygments_lexer": "ipython3",
   "version": "3.9.13"
  }
 },
 "nbformat": 4,
 "nbformat_minor": 5
}
